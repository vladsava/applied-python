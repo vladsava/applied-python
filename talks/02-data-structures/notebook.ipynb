{
 "cells": [
  {
   "cell_type": "markdown",
   "metadata": {},
   "source": [
    "# Структуры данных"
   ]
  },
  {
   "cell_type": "markdown",
   "metadata": {},
   "source": [
    "Мы рассмотрим для начала структуры данных, доступные \"из коробки\""
   ]
  },
  {
   "cell_type": "code",
   "execution_count": null,
   "metadata": {},
   "outputs": [],
   "source": [
    "# built-in структуры данных\n",
    "list, tuple, dict, set, frozenset"
   ]
  },
  {
   "cell_type": "markdown",
   "metadata": {},
   "source": [
    "## Список: list"
   ]
  },
  {
   "cell_type": "markdown",
   "metadata": {},
   "source": [
    "Позволяет хранить последовательность элементов одного или разных типов с Сохранением порядка добавления элементов в список.\n",
    "\n",
    "Изменяемые\n",
    "Не хешируемые"
   ]
  },
  {
   "cell_type": "markdown",
   "metadata": {},
   "source": [
    "## Создание списков"
   ]
  },
  {
   "cell_type": "code",
   "execution_count": null,
   "metadata": {},
   "outputs": [],
   "source": [
    "# создаем list используя квадратные скобки или ф-ю list\n",
    "empty_list = []\n",
    "empty_list = list()\n",
    "not_empty_list = list([1,2,3])\n",
    "not_empty_list = [1, 2, 3]\n",
    "item = [None] * 100"
   ]
  },
  {
   "cell_type": "code",
   "execution_count": null,
   "metadata": {},
   "outputs": [],
   "source": [
    "# list может содержать любые объекты, внутри Python они хранятся как массив указателей\n",
    "example_list = [1, True, \"a\"]\n",
    "for element in example_list:\n",
    "    print(element)"
   ]
  },
  {
   "cell_type": "code",
   "execution_count": null,
   "metadata": {},
   "outputs": [],
   "source": [
    "# добавляем элемент в конец списка O(1)\n",
    "example_list.append(\"foo\")\n",
    "print(example_list)\n",
    "\n",
    "# добавляем элемент в начало O(n)\n",
    "example_list.insert(0, \"bar\")\n",
    "print(example_list)"
   ]
  },
  {
   "cell_type": "code",
   "execution_count": null,
   "metadata": {},
   "outputs": [],
   "source": [
    "example_list.append(example_list)\n",
    "print(example_list)"
   ]
  },
  {
   "cell_type": "code",
   "execution_count": null,
   "metadata": {},
   "outputs": [],
   "source": [
    "benchmark_list = []\n",
    "%timeit -n10000 benchmark_list.append(\"foo\")"
   ]
  },
  {
   "cell_type": "code",
   "execution_count": null,
   "metadata": {},
   "outputs": [],
   "source": [
    "benchmark_list = []\n",
    "%timeit -n10000 benchmark_list.insert(0, \"bar\")"
   ]
  },
  {
   "cell_type": "code",
   "execution_count": null,
   "metadata": {},
   "outputs": [],
   "source": [
    "example_list = [0, 1, 2, 3, 4, 5, 6]\n",
    "\n",
    "# доступ к элементу O(1)\n",
    "print(example_list[0])\n",
    "print(example_list[-1])\n",
    "\n",
    "# Изменение по индексу O(1)\n",
    "example_list[6] = 10"
   ]
  },
  {
   "cell_type": "code",
   "execution_count": null,
   "metadata": {},
   "outputs": [],
   "source": [
    "# Удаление элемента O(n)\n",
    "print(example_list)\n",
    "del example_list[-1]\n",
    "print(example_list)"
   ]
  },
  {
   "cell_type": "code",
   "execution_count": null,
   "metadata": {},
   "outputs": [],
   "source": [
    "example_list.remove(5)\n",
    "print(example_list)"
   ]
  },
  {
   "cell_type": "code",
   "execution_count": null,
   "metadata": {},
   "outputs": [],
   "source": [
    "example_list.remove(5)"
   ]
  },
  {
   "cell_type": "code",
   "execution_count": null,
   "metadata": {},
   "outputs": [],
   "source": [
    "del example_list[5]"
   ]
  },
  {
   "cell_type": "code",
   "execution_count": null,
   "metadata": {},
   "outputs": [],
   "source": [
    "# Обращение к несуществующему индексу.\n",
    "example_list[100]"
   ]
  },
  {
   "cell_type": "code",
   "execution_count": null,
   "metadata": {
    "scrolled": true
   },
   "outputs": [],
   "source": [
    "# срезы\n",
    "print(example_list)\n",
    "print(example_list[2:-1])\n",
    "print(example_list[2:])\n",
    "print(example_list[2:4])\n",
    "print(example_list[::2])\n",
    "print(example_list[-1])\n",
    "print(example_list[::-1])"
   ]
  },
  {
   "cell_type": "code",
   "execution_count": null,
   "metadata": {},
   "outputs": [],
   "source": [
    "# при простом присваивании новая переменная ссылается на тот же список\n",
    "example_list = [1, 2, 3, 4, 5]\n",
    "another_list = example_list\n",
    "another_list[0] = 100\n",
    "print(example_list)"
   ]
  },
  {
   "cell_type": "code",
   "execution_count": null,
   "metadata": {},
   "outputs": [],
   "source": [
    "# копирование списка\n",
    "example_list = [0, 1, 2, 3, 4, 5]\n",
    "another_list = example_list[:]\n",
    "# import copy\n",
    "# another_list = copy.copy(example_list)\n",
    "# another_list = list(example_list)\n",
    "another_list[0] = 100\n",
    "print(example_list)"
   ]
  },
  {
   "cell_type": "code",
   "execution_count": null,
   "metadata": {},
   "outputs": [],
   "source": [
    "# но вложенные объекты не копируются (shallow copy)\n",
    "nested_list = [1, 2, 3]\n",
    "example_list = [nested_list, 1, 2, 3, 4, 5]\n",
    "another_list = example_list[:]\n",
    "nested_list.append(4)\n",
    "print(another_list)"
   ]
  },
  {
   "cell_type": "code",
   "execution_count": null,
   "metadata": {},
   "outputs": [],
   "source": [
    "# используем ф-ю deepcopy из пакета copy\n",
    "from copy import deepcopy\n",
    "nested_list = [1, 2, 3]\n",
    "example_list = [nested_list, 1, 2, 3, 4, 5]\n",
    "another_list = deepcopy(example_list)\n",
    "nested_list.append(4)\n",
    "print(another_list)"
   ]
  },
  {
   "cell_type": "markdown",
   "metadata": {},
   "source": [
    "### Немного о сортировке"
   ]
  },
  {
   "cell_type": "code",
   "execution_count": null,
   "metadata": {},
   "outputs": [],
   "source": [
    "# Сортировка списка\n",
    "unsorted_list = [2, 1, 5, 4, 3]\n",
    "unsorted_list.sort()\n",
    "print(unsorted_list)"
   ]
  },
  {
   "cell_type": "code",
   "execution_count": null,
   "metadata": {},
   "outputs": [],
   "source": [
    "# сортировка in-place\n",
    "unsorted_list = [2, 1, 5, 4, 3]\n",
    "print(sorted(unsorted_list))\n",
    "print(unsorted_list)"
   ]
  },
  {
   "cell_type": "markdown",
   "metadata": {},
   "source": [
    "## Кортеж: tuple"
   ]
  },
  {
   "cell_type": "markdown",
   "metadata": {},
   "source": [
    "Так же как и список позволяет хранить последовательность элементов одного или разного типа\n",
    "\n",
    "* Неизменяемые (Immutable) => защищают данные\n",
    "* Быстрее списка\n",
    "* Хешируемые (Hashable)"
   ]
  },
  {
   "cell_type": "code",
   "execution_count": null,
   "metadata": {},
   "outputs": [],
   "source": [
    "# создадим пустой tuple используя круглые скобки или ф-ю tuple\n",
    "empty_tuple = ()\n",
    "empty_tuple = tuple()"
   ]
  },
  {
   "cell_type": "code",
   "execution_count": null,
   "metadata": {},
   "outputs": [],
   "source": [
    "len(empty_tuple)"
   ]
  },
  {
   "cell_type": "code",
   "execution_count": null,
   "metadata": {},
   "outputs": [],
   "source": [
    "hash(empty_tuple)"
   ]
  },
  {
   "cell_type": "code",
   "execution_count": null,
   "metadata": {},
   "outputs": [],
   "source": [
    "example_tuple = (1, \"a\", True)\n",
    "for element in example_tuple:\n",
    "    print(element)"
   ]
  },
  {
   "cell_type": "code",
   "execution_count": null,
   "metadata": {},
   "outputs": [],
   "source": [
    "len(example_tuple)"
   ]
  },
  {
   "cell_type": "code",
   "execution_count": null,
   "metadata": {},
   "outputs": [],
   "source": [
    "example_tuple = (1, 2, 3)\n",
    "print(example_tuple[0])\n",
    "print(example_tuple[1:])"
   ]
  },
  {
   "cell_type": "code",
   "execution_count": null,
   "metadata": {},
   "outputs": [],
   "source": [
    "example_tuple[0] = 2017"
   ]
  },
  {
   "cell_type": "code",
   "execution_count": null,
   "metadata": {},
   "outputs": [],
   "source": [
    "example_list[200]"
   ]
  },
  {
   "cell_type": "code",
   "execution_count": null,
   "metadata": {},
   "outputs": [],
   "source": [
    "a = (123)\n",
    "a\n",
    "print(type(a))\n",
    "a = (123, ) # в кортеже с одним элементом запятая обязательна!\n",
    "print(type(a))\n",
    "a = 1,2,3\n",
    "print (type(a))"
   ]
  },
  {
   "cell_type": "markdown",
   "metadata": {},
   "source": [
    "Важно понимать, что **неизменяемым является сам tuple, но не объекты, которые он содержит!**. Например:"
   ]
  },
  {
   "cell_type": "code",
   "execution_count": null,
   "metadata": {},
   "outputs": [],
   "source": [
    "first_list = [1, 2]\n",
    "second_list = [3, 4]\n",
    "example_tuple = (first_list, second_list)\n",
    "print(example_tuple)\n",
    "first_list.append(5)\n",
    "print(example_tuple)"
   ]
  },
  {
   "cell_type": "markdown",
   "metadata": {},
   "source": [
    "## Написать в одну строку все цифры от 0 до 100\n"
   ]
  },
  {
   "cell_type": "code",
   "execution_count": null,
   "metadata": {},
   "outputs": [],
   "source": [
    "long_arr = [1] * 101\n",
    "result = \"\"\n",
    "current_item = 0\n",
    "for index, item in enumerate(long_arr):\n",
    "    result += str(current_item)\n",
    "    current_item += item\n",
    "\n",
    "print(result)"
   ]
  },
  {
   "cell_type": "code",
   "execution_count": null,
   "metadata": {},
   "outputs": [],
   "source": [
    "print(\"\".join([str(item) for item in range(0, 101)]))"
   ]
  },
  {
   "cell_type": "markdown",
   "metadata": {},
   "source": [
    "## Словарь: dict"
   ]
  },
  {
   "cell_type": "markdown",
   "metadata": {},
   "source": [
    "Позволяет хранить пары ключ-значение, для быстрого доступа к значению по ключу. "
   ]
  },
  {
   "cell_type": "code",
   "execution_count": null,
   "metadata": {},
   "outputs": [],
   "source": [
    "# создаем словарь используя фигурные скобки или ф-ю dict\n",
    "empty_dict = dict()\n",
    "empty_dict = {}"
   ]
  },
  {
   "cell_type": "code",
   "execution_count": null,
   "metadata": {},
   "outputs": [],
   "source": [
    "dict(a=4, b=True)"
   ]
  },
  {
   "cell_type": "code",
   "execution_count": null,
   "metadata": {},
   "outputs": [],
   "source": [
    "example_dict = {\n",
    "    \"a\": 1,\n",
    "    \"b\": True,\n",
    "    (1, 2, 3): True\n",
    "}\n",
    "\n",
    "# Добавляем ключ и соответствующее ему значение в словарь O(1)\n",
    "example_dict[\"c\"] = 4\n",
    "print(example_dict)\n",
    "\n",
    "# Поиск значения по ключу O(1)\n",
    "print(example_dict[\"c\"])"
   ]
  },
  {
   "cell_type": "code",
   "execution_count": null,
   "metadata": {},
   "outputs": [],
   "source": [
    "# Доступ к несуществующему ключу:\n",
    "print(example_dict[\"x\"])"
   ]
  },
  {
   "cell_type": "code",
   "execution_count": null,
   "metadata": {
    "scrolled": false
   },
   "outputs": [],
   "source": [
    "# ключом словаря может быть только hashable объект\n",
    "example_dict[example_list] = True"
   ]
  },
  {
   "cell_type": "markdown",
   "metadata": {},
   "source": [
    "Объект является hashable объектом, если он имеет hash-значение, неизменное в процессе его жизни (т.е. у объекта должен быть определен **______hash______()** метод) и объект можно сравнить с другими объектами (**________eq________()** или **________cmp________()** методы). Одинаковые объекты должны иметь одинаковое знаение hash.\n",
    "\n",
    "Если объект hashable, то он может быть использован как ключ в словаре или член множества (так как эти структуры используют значение hash внутри своей имплементации).\n",
    "\n",
    "Все immutable встроенные объекты в Python - hashable, mutable контейнеры - нет (списки, словари). Инстансы классов - hashable (их hash значение - их id, то есть адрес в памяти)."
   ]
  },
  {
   "cell_type": "code",
   "execution_count": null,
   "metadata": {},
   "outputs": [],
   "source": [
    "hash([1,2,3])"
   ]
  },
  {
   "cell_type": "code",
   "execution_count": null,
   "metadata": {},
   "outputs": [],
   "source": [
    "hash((1,2,3))"
   ]
  },
  {
   "cell_type": "code",
   "execution_count": null,
   "metadata": {},
   "outputs": [],
   "source": [
    "# если мы не уверены, что ключ есть в словаре - можно воспользоваться методом get\n",
    "print(example_dict.get(\"x\"))\n",
    "print(example_dict.get(\"x\", \"default value\"))"
   ]
  },
  {
   "cell_type": "code",
   "execution_count": null,
   "metadata": {},
   "outputs": [],
   "source": [
    "# итерируемся по ключам и значениям - внимание, порядок недетерминирован (до Python 3.6)!\n",
    "for key, value in example_dict.items():\n",
    "    print(\"{}: {}\".format(key, value))"
   ]
  },
  {
   "cell_type": "code",
   "execution_count": null,
   "metadata": {},
   "outputs": [],
   "source": [
    "# посмотрим на разницу поиска значения в словаре и списке\n",
    "search_list = list(range(100000)) \n",
    "search_dict = dict.fromkeys(list(range(100000)))"
   ]
  },
  {
   "cell_type": "code",
   "execution_count": null,
   "metadata": {},
   "outputs": [],
   "source": [
    "%timeit -n10000 0 in search_list"
   ]
  },
  {
   "cell_type": "code",
   "execution_count": null,
   "metadata": {},
   "outputs": [],
   "source": [
    "%timeit -n10000 0 in search_dict"
   ]
  },
  {
   "cell_type": "code",
   "execution_count": null,
   "metadata": {},
   "outputs": [],
   "source": [
    "%timeit -n1000 99999 in search_list"
   ]
  },
  {
   "cell_type": "code",
   "execution_count": null,
   "metadata": {},
   "outputs": [],
   "source": [
    "%timeit -n10000 99999 in search_dict"
   ]
  },
  {
   "cell_type": "code",
   "execution_count": null,
   "metadata": {},
   "outputs": [],
   "source": [
    "# объединение словарей\n",
    "d1 = {\"a\": 1, \"c\": 3}\n",
    "d2 = {\"b\": 2}\n",
    "d1.update(d2)\n",
    "print(d1)"
   ]
  },
  {
   "cell_type": "code",
   "execution_count": null,
   "metadata": {},
   "outputs": [],
   "source": [
    "# копирование\n",
    "d1 = {\"a\": 1, \"c\": 3}\n",
    "d2 = d1.copy()\n",
    "d2[\"a\"] = 100\n",
    "print(d1)\n",
    "print(d2)\n",
    "print()\n",
    "\n",
    "# вложенные не копируются\n",
    "nested = [1, 2, 3]\n",
    "d1 = {\"a\": nested}\n",
    "d2 = d1.copy()\n",
    "nested.append(4)\n",
    "print(d1)\n",
    "print(d2)\n",
    "print()\n",
    "\n",
    "# поэтому опять используем deepcopy\n",
    "from copy import deepcopy\n",
    "nested = [1, 2, 3]\n",
    "d1 = {\"a\": nested}\n",
    "d2 = deepcopy(d1)\n",
    "nested.append(4)\n",
    "print(d1)\n",
    "print(d2)"
   ]
  },
  {
   "cell_type": "markdown",
   "metadata": {},
   "source": [
    "**Задача - есть список элементов. Известно, что у большинства элементов в списке есть пары, то есть их по 2. Но есть некоторое количество элементов, у которых пары нет - их по 1 в списке. Цель - найти эти одиночные элементы.**\n",
    "\n",
    "Вот решение с помощью словаря:"
   ]
  },
  {
   "cell_type": "code",
   "execution_count": null,
   "metadata": {},
   "outputs": [],
   "source": [
    "elements = [2, 1, 5, 2, 4, 3, 1, 4]\n",
    "\n",
    "solution_dict = {}\n",
    "\n",
    "#TODO by hand\n",
    "\n",
    "for item in elements:\n",
    "    if item in solution_dict:\n",
    "        solution_dict[item] = solution_dict.get(item, 0) + 1\n",
    "for key, value in solution_dict.items():\n",
    "    if value is 1:\n",
    "        print(key)"
   ]
  },
  {
   "cell_type": "markdown",
   "metadata": {},
   "source": [
    "В python3.6 dict сохранет порядок добавления элементов"
   ]
  },
  {
   "cell_type": "code",
   "execution_count": null,
   "metadata": {},
   "outputs": [],
   "source": [
    "example = dict()\n",
    "for item in range(0, 10):\n",
    "    example[item] = item\n",
    "print(example)\n",
    "for key, value in example.items():\n",
    "    print(key, value)"
   ]
  },
  {
   "cell_type": "markdown",
   "metadata": {},
   "source": [
    "## Равенство и идентичность"
   ]
  },
  {
   "cell_type": "code",
   "execution_count": null,
   "metadata": {},
   "outputs": [],
   "source": [
    "first_list = [1,2,3]\n",
    "from copy import deepcopy\n",
    "second_list = deepcopy(first_list)\n",
    "print(first_list == second_list)\n",
    "print(first_list is second_list)"
   ]
  },
  {
   "cell_type": "code",
   "execution_count": null,
   "metadata": {},
   "outputs": [],
   "source": [
    "apple_count = \"one\"\n",
    "orange_count = \"one\"\n",
    "print(apple_count == orange_count)\n",
    "print(apple_count is orange_count)"
   ]
  },
  {
   "cell_type": "code",
   "execution_count": null,
   "metadata": {},
   "outputs": [],
   "source": [
    "apple_count = \"more then one\"\n",
    "orange_count = \"more then one\"\n",
    "print(apple_count == orange_count)\n",
    "print(apple_count is orange_count)"
   ]
  },
  {
   "cell_type": "markdown",
   "metadata": {},
   "source": [
    "## Введение в генераторы"
   ]
  },
  {
   "cell_type": "code",
   "execution_count": null,
   "metadata": {},
   "outputs": [],
   "source": [
    "first_list = [0, 1,2,3,4,5,6]\n",
    "second_list = [item + 1 for item in first_list]\n",
    "print(first_list is second_list)\n",
    "print(second_list)"
   ]
  },
  {
   "cell_type": "code",
   "execution_count": null,
   "metadata": {},
   "outputs": [],
   "source": [
    "new_dict = {item: item + 1 for item in first_list }\n",
    "print(new_dict)"
   ]
  },
  {
   "cell_type": "code",
   "execution_count": null,
   "metadata": {},
   "outputs": [],
   "source": [
    "print(list(range(0, 10)))\n",
    "even_list = [num for num in range(10) if num % 2 == 0]\n",
    "print(even_list)"
   ]
  },
  {
   "cell_type": "markdown",
   "metadata": {},
   "source": [
    "## Множество: set"
   ]
  },
  {
   "cell_type": "markdown",
   "metadata": {},
   "source": [
    "Неупорядоченная коллекция, содержащая только уникальные хешируемые элементы.\n",
    "\n",
    "Изменяемые\n",
    "Не хешируемые"
   ]
  },
  {
   "cell_type": "code",
   "execution_count": null,
   "metadata": {},
   "outputs": [],
   "source": [
    "# создадим пустой set c помощью ф-ии set()\n",
    "empty_set = set()"
   ]
  },
  {
   "cell_type": "code",
   "execution_count": null,
   "metadata": {},
   "outputs": [],
   "source": [
    "# непустое множество можно также задать фигурными скобками\n",
    "example_set = {1, 2, 3}\n",
    "print('id is ', id(example_set))\n",
    "# добавляем элемент в set\n",
    "example_set.add(4)\n",
    "print(example_set)\n",
    "print('id is ', id(example_set))\n",
    "\n",
    "# добавляем уже присутствующий элемент в set - ничего не меняется\n",
    "example_set.add(1)\n",
    "print(example_set)"
   ]
  },
  {
   "cell_type": "code",
   "execution_count": null,
   "metadata": {},
   "outputs": [],
   "source": [
    "# Проверяем наличие значения в множестве O(1)\n",
    "2 in example_set"
   ]
  },
  {
   "cell_type": "code",
   "execution_count": null,
   "metadata": {},
   "outputs": [],
   "source": [
    "another_set = {4, 5, 6}"
   ]
  },
  {
   "cell_type": "code",
   "execution_count": null,
   "metadata": {},
   "outputs": [],
   "source": [
    "print(example_set.difference(another_set)) # различие\n",
    "print(example_set.union(another_set)) # объединение\n",
    "print(example_set.intersection(another_set)) # пересечение"
   ]
  },
  {
   "cell_type": "code",
   "execution_count": null,
   "metadata": {},
   "outputs": [],
   "source": [
    "# например, вызов какой-либо ф-ии чат сервиса вернул нам список активных в данный момент пользователей в комнате\n",
    "active_users = [\"Александр\", \"Михаил\", \"Ольга\"]\n",
    "# вызов другой ф-ии вернул список администраторов чата\n",
    "admins = [\"Ольга\", \"Мария\"]\n",
    "# нам нужно найти список активных администраторов и послать им какое-либо уведомление\n",
    "active_admins = set(active_users).intersection(set(admins))\n",
    "active_admins"
   ]
  },
  {
   "cell_type": "code",
   "execution_count": null,
   "metadata": {},
   "outputs": [],
   "source": [
    "# сеты могут содержать только hashable объекты.\n",
    "example_set = set()\n",
    "example_set.add([1, 2, 3])"
   ]
  },
  {
   "cell_type": "markdown",
   "metadata": {},
   "source": [
    "**Основная задача, очень часто возникающая на практике. Есть список элементов, нужно оставить только уникальные. Это одна строка с использованием сета:**"
   ]
  },
  {
   "cell_type": "code",
   "execution_count": null,
   "metadata": {},
   "outputs": [],
   "source": [
    "elements = [\"yellow\", \"yellow\", \"green\", \"red\", \"blue\", \"blue\", \"magenta\", \"orange\", \"red\"]\n",
    "set(elements)"
   ]
  },
  {
   "cell_type": "markdown",
   "metadata": {},
   "source": [
    "## frozenset"
   ]
  },
  {
   "cell_type": "markdown",
   "metadata": {},
   "source": [
    "Так как set может содержать только hashable объекты, а иногда нужен сет сетов - существует frozenset"
   ]
  },
  {
   "cell_type": "code",
   "execution_count": null,
   "metadata": {},
   "outputs": [],
   "source": [
    "example_set = set()\n",
    "example_set.add(frozenset([1,2,3]))\n",
    "print(example_set)"
   ]
  },
  {
   "cell_type": "markdown",
   "metadata": {},
   "source": [
    "## collections"
   ]
  },
  {
   "cell_type": "code",
   "execution_count": null,
   "metadata": {},
   "outputs": [],
   "source": [
    "import collections\n",
    "print([x for x in collections.__dict__.keys() if not x.startswith(\"_\")])"
   ]
  },
  {
   "cell_type": "code",
   "execution_count": null,
   "metadata": {},
   "outputs": [],
   "source": [
    "# counter\n",
    "counter = collections.Counter([1,2,3,4,1,2,1,1,1])\n",
    "for elem, count in counter.most_common(3):\n",
    "    print(\"{}: {} times\".format(elem, count))"
   ]
  },
  {
   "cell_type": "code",
   "execution_count": null,
   "metadata": {},
   "outputs": [],
   "source": [
    "# defaultdict\n",
    "default_dict = collections.defaultdict(int)\n",
    "default_dict[\"not_exists\"]"
   ]
  },
  {
   "cell_type": "code",
   "execution_count": null,
   "metadata": {},
   "outputs": [],
   "source": [
    "# namedtuple\n",
    "import math\n",
    "Point = collections.namedtuple('Point', ['x', 'y'])\n",
    "point1 = Point(0, 0)\n",
    "point2 = Point(3, 4)\n",
    "distance = math.sqrt((point2.x - point1.x)**2 + (point2.y - point1.y)**2)\n",
    "distance"
   ]
  },
  {
   "cell_type": "markdown",
   "metadata": {},
   "source": [
    "## queue"
   ]
  },
  {
   "cell_type": "code",
   "execution_count": 1,
   "metadata": {},
   "outputs": [
    {
     "name": "stdout",
     "output_type": "stream",
     "text": [
      "Queue: Create a queue object with a given maximum size.\n",
      "\n",
      "    If maxsize is <= 0, the queue size is infinite.\n",
      "    \n",
      "\n",
      "PriorityQueue: Variant of Queue that retrieves open entries in priority order (lowest first).\n",
      "\n",
      "    Entries are typically tuples of the form:  (priority number, data).\n",
      "    \n",
      "\n",
      "LifoQueue: Variant of Queue that retrieves most recently added entries first.\n"
     ]
    }
   ],
   "source": [
    "import queue\n",
    "\n",
    "print(\"Queue:\", queue.Queue.__doc__)\n",
    "print()\n",
    "print(\"PriorityQueue:\", queue.PriorityQueue.__doc__)\n",
    "print()\n",
    "print(\"LifoQueue:\", queue.LifoQueue.__doc__)"
   ]
  },
  {
   "cell_type": "markdown",
   "metadata": {},
   "source": [
    "* Queue\n",
    "* PriorityQueue\n",
    "* LifoQueue\n",
    "\n",
    "Разберем позже, когда будем говорить о многопоточности, так как доступ к этим структурам синхронизирован."
   ]
  },
  {
   "cell_type": "markdown",
   "metadata": {},
   "source": [
    "### Другие структуры данных"
   ]
  },
  {
   "cell_type": "markdown",
   "metadata": {},
   "source": [
    "* Связанные списки\n",
    "* Деревья\n",
    "* Графы\n",
    "* ...\n",
    "\n",
    "Если вам нужна реализация какой-то конкретно структуры данных - скорее всего вы найдете готовую open-source реализацию."
   ]
  },
  {
   "cell_type": "markdown",
   "metadata": {},
   "source": [
    "# Функции"
   ]
  },
  {
   "cell_type": "code",
   "execution_count": null,
   "metadata": {},
   "outputs": [],
   "source": [
    "from datetime import datetime\n",
    "\n",
    "\n",
    "def get_seconds():\n",
    "    \"\"\"Return current seconds\"\"\"\n",
    "    return datetime.now().second\n",
    "\n",
    "\n",
    "get_seconds()"
   ]
  },
  {
   "cell_type": "code",
   "execution_count": null,
   "metadata": {},
   "outputs": [],
   "source": [
    "help(get_seconds)"
   ]
  },
  {
   "cell_type": "code",
   "execution_count": null,
   "metadata": {},
   "outputs": [],
   "source": [
    "get_seconds.__doc__"
   ]
  },
  {
   "cell_type": "code",
   "execution_count": null,
   "metadata": {},
   "outputs": [],
   "source": [
    "get_seconds.__name__"
   ]
  },
  {
   "cell_type": "code",
   "execution_count": null,
   "metadata": {},
   "outputs": [],
   "source": [
    "def split_tags(tag_string):\n",
    "    tag_list = []\n",
    "    for tag in tag_string.split(','):\n",
    "        tag_list.append(tag.strip())\n",
    "        \n",
    "    return tag_list\n",
    "\n",
    "\n",
    "split_tags('functions, classes, OOP, inheritance, methods')"
   ]
  },
  {
   "cell_type": "code",
   "execution_count": null,
   "metadata": {},
   "outputs": [],
   "source": [
    "split_tags()"
   ]
  },
  {
   "cell_type": "code",
   "execution_count": null,
   "metadata": {},
   "outputs": [],
   "source": []
  },
  {
   "cell_type": "code",
   "execution_count": null,
   "metadata": {},
   "outputs": [],
   "source": [
    "def add(x: int, y: int) -> int:\n",
    "    return x + y\n",
    "\n",
    "\n",
    "print(add(10, 11))\n",
    "print(add('still ', 'works'))"
   ]
  },
  {
   "cell_type": "code",
   "execution_count": null,
   "metadata": {},
   "outputs": [],
   "source": []
  },
  {
   "cell_type": "markdown",
   "metadata": {},
   "source": [
    "## Напишите функцию, которая находит медиану переданного списка"
   ]
  },
  {
   "cell_type": "code",
   "execution_count": null,
   "metadata": {},
   "outputs": [],
   "source": [
    "def nlogn_median(l):\n",
    "    l = sorted(l)\n",
    "    if len(l) % 2 == 1:\n",
    "        return l[len(l) / 2]\n",
    "    else:\n",
    "        return (l[len(l) // 2 - 1] + l[len(l) // 2])/2\n",
    "    \n",
    "nlogn_median([4,2,3,1])"
   ]
  },
  {
   "cell_type": "markdown",
   "metadata": {},
   "source": [
    "### По ссылке или по значению?"
   ]
  },
  {
   "cell_type": "code",
   "execution_count": null,
   "metadata": {},
   "outputs": [],
   "source": [
    "def extender(source_list, extend_list):\n",
    "    source_list.extend(extend_list)\n",
    "    \n",
    "\n",
    "values = [1, 2, 3]\n",
    "extender(values, [4, 5, 6])\n",
    "\n",
    "print(values)"
   ]
  },
  {
   "cell_type": "code",
   "execution_count": null,
   "metadata": {},
   "outputs": [],
   "source": [
    "def replacer(source_tuple, replace_with):\n",
    "    source_tuple = replace_with\n",
    "    \n",
    "\n",
    "user_info = ('Guido', '31/01')\n",
    "replacer(user_info, ('Larry', '27/09'))\n",
    "\n",
    "print(user_info)"
   ]
  },
  {
   "cell_type": "code",
   "execution_count": null,
   "metadata": {},
   "outputs": [],
   "source": [
    "# mutable vs immutable"
   ]
  },
  {
   "cell_type": "markdown",
   "metadata": {},
   "source": [
    "### Именованные аргументы"
   ]
  },
  {
   "cell_type": "code",
   "execution_count": null,
   "metadata": {},
   "outputs": [],
   "source": [
    "def say(greeting, name):\n",
    "    print('{} {}!'.format(greeting, name))\n",
    "    \n",
    "\n",
    "say('Hello', 'Kitty')\n",
    "say(name='Kitty', greeting='Hello')"
   ]
  },
  {
   "cell_type": "code",
   "execution_count": null,
   "metadata": {},
   "outputs": [],
   "source": [
    "say(name='Kitty', 'Hello')"
   ]
  },
  {
   "cell_type": "markdown",
   "metadata": {},
   "source": [
    "### Область видимости"
   ]
  },
  {
   "cell_type": "code",
   "execution_count": null,
   "metadata": {},
   "outputs": [],
   "source": [
    "result = 0\n",
    "\n",
    "def increment():\n",
    "    return result\n",
    "\n",
    "result = increment()\n",
    "print(result)"
   ]
  },
  {
   "cell_type": "code",
   "execution_count": null,
   "metadata": {},
   "outputs": [],
   "source": [
    "result = 0\n",
    "\n",
    "def increment():\n",
    "    result = 1\n",
    "    return result\n",
    "\n",
    "result = increment()"
   ]
  },
  {
   "cell_type": "code",
   "execution_count": null,
   "metadata": {},
   "outputs": [],
   "source": [
    "result = 0\n",
    "\n",
    "def increment():\n",
    "    print(result)\n",
    "    result = 1\n",
    "    return result\n",
    "\n",
    "result = increment()"
   ]
  },
  {
   "cell_type": "code",
   "execution_count": null,
   "metadata": {},
   "outputs": [],
   "source": [
    "# global & nonlocal"
   ]
  },
  {
   "cell_type": "markdown",
   "metadata": {},
   "source": [
    "### Аргументы по умолчанию"
   ]
  },
  {
   "cell_type": "code",
   "execution_count": null,
   "metadata": {},
   "outputs": [],
   "source": [
    "def greeting(name='it\\'s me...'):\n",
    "    print('Hello, {}'.format(name))\n",
    "    \n",
    "greeting()    \n",
    "greeting('Kitty')\n",
    "\n",
    "print(greeting.__defaults__)"
   ]
  },
  {
   "cell_type": "code",
   "execution_count": null,
   "metadata": {},
   "outputs": [],
   "source": [
    "def append_one(iterable=[]):\n",
    "    print('iterable', iterable)\n",
    "    iterable.append(1)\n",
    "    \n",
    "    return iterable\n",
    "\n",
    "print('defaults', append_one.__defaults__)\n",
    "print(append_one([1]))"
   ]
  },
  {
   "cell_type": "code",
   "execution_count": null,
   "metadata": {},
   "outputs": [],
   "source": [
    "print(append_one())\n",
    "print(append_one())"
   ]
  },
  {
   "cell_type": "code",
   "execution_count": null,
   "metadata": {},
   "outputs": [],
   "source": [
    "print(append_one.__defaults__)"
   ]
  },
  {
   "cell_type": "code",
   "execution_count": null,
   "metadata": {},
   "outputs": [],
   "source": [
    "def function(iterable=None):\n",
    "    if iterable is None:\n",
    "        iterable = []\n",
    "    return iterable\n",
    "\n",
    "def function(iterable=None):\n",
    "    iterable = iterable or []\n",
    "    return iterable\n",
    "\n",
    "function()"
   ]
  },
  {
   "cell_type": "markdown",
   "metadata": {},
   "source": [
    "### Распаковка"
   ]
  },
  {
   "cell_type": "code",
   "execution_count": null,
   "metadata": {},
   "outputs": [],
   "source": [
    "def printer(*args):\n",
    "    print(type(args))\n",
    "    \n",
    "    for argument in args:\n",
    "        print(argument)\n",
    "\n",
    "\n",
    "printer(1, 2, 3, 4, 5)"
   ]
  },
  {
   "cell_type": "code",
   "execution_count": null,
   "metadata": {},
   "outputs": [],
   "source": [
    "name_list = ['John', 'Bill', 'Amy', 'Jane']\n",
    "printer(*name_list)\n",
    "a = [1,2,3]\n",
    "printer(*a)"
   ]
  },
  {
   "cell_type": "code",
   "execution_count": null,
   "metadata": {},
   "outputs": [],
   "source": [
    "def printer(**kwargs):\n",
    "    print(type(kwargs))\n",
    "    \n",
    "    print(kwargs.keys())\n",
    "        \n",
    "        \n",
    "printer(a=10, b=11)\n"
   ]
  },
  {
   "cell_type": "code",
   "execution_count": null,
   "metadata": {},
   "outputs": [],
   "source": [
    "printer(\"asd\")"
   ]
  },
  {
   "cell_type": "code",
   "execution_count": null,
   "metadata": {},
   "outputs": [],
   "source": [
    "payload = {\n",
    "    'user_id': 117,\n",
    "    'feedback': {\n",
    "        'subject': 'Registration fields',\n",
    "        'message': 'There is no country for old men'\n",
    "    }\n",
    "}\n",
    "printer(**payload)\n",
    "# printer(user_id=117, feedback={\n",
    "#     'subject':. ...\n",
    "# })"
   ]
  },
  {
   "cell_type": "code",
   "execution_count": null,
   "metadata": {},
   "outputs": [],
   "source": [
    "def printer(*args, **kwargs):\n",
    "    print(type(args), args)\n",
    "    print(type(kwargs), kwargs)\n",
    "    \n",
    "printer(1, 2, 3, a=1, b=2)"
   ]
  },
  {
   "cell_type": "markdown",
   "metadata": {},
   "source": [
    "## lambda"
   ]
  },
  {
   "cell_type": "code",
   "execution_count": null,
   "metadata": {},
   "outputs": [],
   "source": [
    "need_sorted = [(0, 1), (1, 0), (2, 3)]"
   ]
  },
  {
   "cell_type": "code",
   "execution_count": null,
   "metadata": {},
   "outputs": [],
   "source": [
    "def sort_key(item):\n",
    "    return item[1]"
   ]
  },
  {
   "cell_type": "code",
   "execution_count": null,
   "metadata": {},
   "outputs": [],
   "source": [
    "print(need_sorted)\n",
    "need_sorted.sort(key=sort_key)\n",
    "print(need_sorted)"
   ]
  },
  {
   "cell_type": "code",
   "execution_count": null,
   "metadata": {},
   "outputs": [],
   "source": [
    "l = lambda x: x[1]\n",
    "print(type(l))"
   ]
  },
  {
   "cell_type": "code",
   "execution_count": null,
   "metadata": {},
   "outputs": [],
   "source": [
    "print(need_sorted)\n",
    "need_sorted.sort(key=lambda x: x[0])\n",
    "print(need_sorted)"
   ]
  },
  {
   "cell_type": "markdown",
   "metadata": {},
   "source": [
    "## Исключения"
   ]
  },
  {
   "cell_type": "code",
   "execution_count": null,
   "metadata": {},
   "outputs": [],
   "source": [
    "def average(num_list):\n",
    "    return sum(num_list) / len(num_list)"
   ]
  },
  {
   "cell_type": "code",
   "execution_count": null,
   "metadata": {},
   "outputs": [],
   "source": [
    "average([])"
   ]
  },
  {
   "cell_type": "code",
   "execution_count": null,
   "metadata": {},
   "outputs": [],
   "source": [
    "try:\n",
    "    average([])\n",
    "except ZeroDivisionError:\n",
    "    print('Error occurred')"
   ]
  },
  {
   "cell_type": "code",
   "execution_count": null,
   "metadata": {},
   "outputs": [],
   "source": [
    "try:\n",
    "    average([])\n",
    "except ZeroDivisionError as e:\n",
    "    print(e)"
   ]
  },
  {
   "cell_type": "code",
   "execution_count": null,
   "metadata": {},
   "outputs": [],
   "source": [
    "try:\n",
    "    average([])\n",
    "except Exception:\n",
    "    print('Avoid this')"
   ]
  },
  {
   "cell_type": "code",
   "execution_count": null,
   "metadata": {},
   "outputs": [],
   "source": [
    "try:\n",
    "    average([])\n",
    "except (ValueError, TypeError, ZeroDivisionError):\n",
    "    pass"
   ]
  },
  {
   "cell_type": "code",
   "execution_count": null,
   "metadata": {},
   "outputs": [],
   "source": [
    "try:\n",
    "    average([])\n",
    "except ValueError:\n",
    "    print('Value!')\n",
    "except ZeroDivisionError:\n",
    "    print('Zero!')"
   ]
  },
  {
   "cell_type": "code",
   "execution_count": null,
   "metadata": {},
   "outputs": [],
   "source": [
    "class ParkException(ZeroDivisionError):\n",
    "    pass"
   ]
  },
  {
   "cell_type": "code",
   "execution_count": null,
   "metadata": {},
   "outputs": [],
   "source": [
    "raise ParkException('Wrong value')"
   ]
  },
  {
   "cell_type": "code",
   "execution_count": null,
   "metadata": {},
   "outputs": [],
   "source": [
    "try:\n",
    "    1 / 0\n",
    "except ZeroDivisionError as e:\n",
    "    raise ValueError from e\n"
   ]
  },
  {
   "cell_type": "code",
   "execution_count": null,
   "metadata": {},
   "outputs": [],
   "source": [
    "try:\n",
    "    1 / 0\n",
    "except ZeroDivisionError as e:\n",
    "    raise\n"
   ]
  },
  {
   "cell_type": "markdown",
   "metadata": {},
   "source": [
    "## Генераторы часть 2"
   ]
  },
  {
   "cell_type": "code",
   "execution_count": null,
   "metadata": {},
   "outputs": [],
   "source": [
    "a = (item for item in range(3))\n",
    "for item in a:\n",
    "    print(item)\n",
    "\n",
    "print(a)\n",
    "\n",
    "for item in a:\n",
    "    print(item)\n"
   ]
  },
  {
   "cell_type": "code",
   "execution_count": null,
   "metadata": {},
   "outputs": [],
   "source": [
    "def simple_gen():\n",
    "    yield 1\n",
    "    yield 2\n",
    "\n",
    "gen = simple_gen()\n",
    "print(next(gen))\n",
    "print(next(gen))\n",
    "print(next(gen))"
   ]
  },
  {
   "cell_type": "code",
   "execution_count": null,
   "metadata": {},
   "outputs": [],
   "source": [
    "gen = simple_gen()\n",
    "for i in gen:\n",
    "    print(i)"
   ]
  }
 ],
 "metadata": {
  "kernelspec": {
   "display_name": "Python 3",
   "language": "python",
   "name": "python3"
  },
  "language_info": {
   "codemirror_mode": {
    "name": "ipython",
    "version": 3
   },
   "file_extension": ".py",
   "mimetype": "text/x-python",
   "name": "python",
   "nbconvert_exporter": "python",
   "pygments_lexer": "ipython3",
   "version": "3.6.4"
  }
 },
 "nbformat": 4,
 "nbformat_minor": 1
}
